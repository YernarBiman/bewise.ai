{
 "cells": [
  {
   "cell_type": "code",
   "execution_count": 1,
   "id": "58befb7c",
   "metadata": {},
   "outputs": [],
   "source": [
    "import numpy as np\n",
    "import pandas as pd"
   ]
  },
  {
   "cell_type": "code",
   "execution_count": 2,
   "id": "8d5a4699",
   "metadata": {},
   "outputs": [],
   "source": [
    "file =pd.read_csv('test_data.csv')"
   ]
  },
  {
   "cell_type": "code",
   "execution_count": 3,
   "id": "cc89979b",
   "metadata": {},
   "outputs": [],
   "source": [
    "file_manager = file[file[\"role\"]=='manager']"
   ]
  },
  {
   "cell_type": "code",
   "execution_count": 4,
   "id": "83356f18",
   "metadata": {},
   "outputs": [
    {
     "data": {
      "text/html": [
       "<div>\n",
       "<style scoped>\n",
       "    .dataframe tbody tr th:only-of-type {\n",
       "        vertical-align: middle;\n",
       "    }\n",
       "\n",
       "    .dataframe tbody tr th {\n",
       "        vertical-align: top;\n",
       "    }\n",
       "\n",
       "    .dataframe thead th {\n",
       "        text-align: right;\n",
       "    }\n",
       "</style>\n",
       "<table border=\"1\" class=\"dataframe\">\n",
       "  <thead>\n",
       "    <tr style=\"text-align: right;\">\n",
       "      <th></th>\n",
       "      <th>dlg_id</th>\n",
       "      <th>line_n</th>\n",
       "      <th>role</th>\n",
       "      <th>text</th>\n",
       "    </tr>\n",
       "  </thead>\n",
       "  <tbody>\n",
       "    <tr>\n",
       "      <th>1</th>\n",
       "      <td>0</td>\n",
       "      <td>1</td>\n",
       "      <td>manager</td>\n",
       "      <td>Алло здравствуйте</td>\n",
       "    </tr>\n",
       "    <tr>\n",
       "      <th>3</th>\n",
       "      <td>0</td>\n",
       "      <td>3</td>\n",
       "      <td>manager</td>\n",
       "      <td>Меня зовут ангелина компания диджитал бизнес з...</td>\n",
       "    </tr>\n",
       "    <tr>\n",
       "      <th>5</th>\n",
       "      <td>0</td>\n",
       "      <td>5</td>\n",
       "      <td>manager</td>\n",
       "      <td>Угу ну возможно вы рассмотрите и другие вариан...</td>\n",
       "    </tr>\n",
       "    <tr>\n",
       "      <th>8</th>\n",
       "      <td>0</td>\n",
       "      <td>8</td>\n",
       "      <td>manager</td>\n",
       "      <td>Угу а на что вы обращаете внимание при выборе</td>\n",
       "    </tr>\n",
       "    <tr>\n",
       "      <th>11</th>\n",
       "      <td>0</td>\n",
       "      <td>11</td>\n",
       "      <td>manager</td>\n",
       "      <td>Что для вас приоритет</td>\n",
       "    </tr>\n",
       "    <tr>\n",
       "      <th>...</th>\n",
       "      <td>...</td>\n",
       "      <td>...</td>\n",
       "      <td>...</td>\n",
       "      <td>...</td>\n",
       "    </tr>\n",
       "    <tr>\n",
       "      <th>472</th>\n",
       "      <td>5</td>\n",
       "      <td>135</td>\n",
       "      <td>manager</td>\n",
       "      <td>Так дмитрий</td>\n",
       "    </tr>\n",
       "    <tr>\n",
       "      <th>473</th>\n",
       "      <td>5</td>\n",
       "      <td>136</td>\n",
       "      <td>manager</td>\n",
       "      <td>Все записала тогда завтра ждите звонка</td>\n",
       "    </tr>\n",
       "    <tr>\n",
       "      <th>475</th>\n",
       "      <td>5</td>\n",
       "      <td>138</td>\n",
       "      <td>manager</td>\n",
       "      <td>По поводу виджетов и с ними уже обсудите конкр...</td>\n",
       "    </tr>\n",
       "    <tr>\n",
       "      <th>476</th>\n",
       "      <td>5</td>\n",
       "      <td>139</td>\n",
       "      <td>manager</td>\n",
       "      <td>Все я вам высылаю счет и с вами на связи если ...</td>\n",
       "    </tr>\n",
       "    <tr>\n",
       "      <th>479</th>\n",
       "      <td>5</td>\n",
       "      <td>142</td>\n",
       "      <td>manager</td>\n",
       "      <td>Ну до свидания хорошего вечера</td>\n",
       "    </tr>\n",
       "  </tbody>\n",
       "</table>\n",
       "<p>201 rows × 4 columns</p>\n",
       "</div>"
      ],
      "text/plain": [
       "     dlg_id  line_n     role  \\\n",
       "1         0       1  manager   \n",
       "3         0       3  manager   \n",
       "5         0       5  manager   \n",
       "8         0       8  manager   \n",
       "11        0      11  manager   \n",
       "..      ...     ...      ...   \n",
       "472       5     135  manager   \n",
       "473       5     136  manager   \n",
       "475       5     138  manager   \n",
       "476       5     139  manager   \n",
       "479       5     142  manager   \n",
       "\n",
       "                                                  text  \n",
       "1                                    Алло здравствуйте  \n",
       "3    Меня зовут ангелина компания диджитал бизнес з...  \n",
       "5    Угу ну возможно вы рассмотрите и другие вариан...  \n",
       "8        Угу а на что вы обращаете внимание при выборе  \n",
       "11                               Что для вас приоритет  \n",
       "..                                                 ...  \n",
       "472                                        Так дмитрий  \n",
       "473             Все записала тогда завтра ждите звонка  \n",
       "475  По поводу виджетов и с ними уже обсудите конкр...  \n",
       "476  Все я вам высылаю счет и с вами на связи если ...  \n",
       "479                     Ну до свидания хорошего вечера  \n",
       "\n",
       "[201 rows x 4 columns]"
      ]
     },
     "execution_count": 4,
     "metadata": {},
     "output_type": "execute_result"
    }
   ],
   "source": [
    "file_manager"
   ]
  },
  {
   "cell_type": "code",
   "execution_count": 5,
   "id": "0869ea8c",
   "metadata": {},
   "outputs": [],
   "source": [
    "data_low=file_manager.text.str.lower()"
   ]
  },
  {
   "cell_type": "code",
   "execution_count": 6,
   "id": "352e3ee4",
   "metadata": {},
   "outputs": [],
   "source": [
    "a = data_low[data_low.str.contains((r'здра(?!$)|добрый день(?!$)|доброе утро(?!$)'))==True]"
   ]
  },
  {
   "cell_type": "code",
   "execution_count": 7,
   "id": "956f2731",
   "metadata": {},
   "outputs": [
    {
     "data": {
      "text/plain": [
       "1      алло здравствуйте\n",
       "110    алло здравствуйте\n",
       "166    алло здравствуйте\n",
       "Name: text, dtype: object"
      ]
     },
     "execution_count": 7,
     "metadata": {},
     "output_type": "execute_result"
    }
   ],
   "source": [
    "a"
   ]
  },
  {
   "cell_type": "code",
   "execution_count": 8,
   "id": "fc671df9",
   "metadata": {},
   "outputs": [],
   "source": [
    "b = data_low[data_low.str.contains((r'зовут(?!$)'))==True]"
   ]
  },
  {
   "cell_type": "code",
   "execution_count": 9,
   "id": "2d0d1c99",
   "metadata": {},
   "outputs": [
    {
     "data": {
      "text/plain": [
       "3      меня зовут ангелина компания диджитал бизнес з...\n",
       "111    меня зовут ангелина компания диджитал бизнес з...\n",
       "167    меня зовут ангелина компания диджитал бизнес з...\n",
       "251    добрый меня максим зовут компания китобизнес у...\n",
       "Name: text, dtype: object"
      ]
     },
     "execution_count": 9,
     "metadata": {},
     "output_type": "execute_result"
    }
   ],
   "source": [
    "b"
   ]
  },
  {
   "cell_type": "code",
   "execution_count": 10,
   "id": "6dedcc2b",
   "metadata": {},
   "outputs": [],
   "source": [
    "c = b.to_string()\n",
    "c = c.split()"
   ]
  },
  {
   "cell_type": "code",
   "execution_count": 11,
   "id": "b37a0bc5",
   "metadata": {},
   "outputs": [],
   "source": [
    "ind=0\n",
    "name = []\n",
    "for i in c:\n",
    "    if i == 'зовут':\n",
    "        if c[ind-1]!='меня':\n",
    "            name.append(c[ind-1])\n",
    "        elif c[ind+1]!='меня':\n",
    "            name.append(c[ind+1])\n",
    "    ind+=1"
   ]
  },
  {
   "cell_type": "code",
   "execution_count": 12,
   "id": "8aaf4b82",
   "metadata": {},
   "outputs": [
    {
     "data": {
      "text/plain": [
       "['ангелина', 'ангелина', 'ангелина', 'максим']"
      ]
     },
     "execution_count": 12,
     "metadata": {},
     "output_type": "execute_result"
    }
   ],
   "source": [
    "name"
   ]
  },
  {
   "cell_type": "code",
   "execution_count": 13,
   "id": "a11b0f1b",
   "metadata": {},
   "outputs": [],
   "source": [
    "ind=0\n",
    "company = []\n",
    "for i in c:\n",
    "    if i == 'компания':\n",
    "        company.append(c[ind+1])\n",
    "    ind+=1"
   ]
  },
  {
   "cell_type": "code",
   "execution_count": 14,
   "id": "45344beb",
   "metadata": {},
   "outputs": [
    {
     "data": {
      "text/plain": [
       "['диджитал', 'диджитал', 'диджитал', 'китобизнес']"
      ]
     },
     "execution_count": 14,
     "metadata": {},
     "output_type": "execute_result"
    }
   ],
   "source": [
    "company"
   ]
  },
  {
   "cell_type": "code",
   "execution_count": 15,
   "id": "4a9e7124",
   "metadata": {},
   "outputs": [],
   "source": [
    "e = data_low[data_low.str.contains((r'до свид(?!$)|до встр(?!$)|доброго(?!$)'))==True]"
   ]
  },
  {
   "cell_type": "code",
   "execution_count": 16,
   "id": "51701585",
   "metadata": {},
   "outputs": [
    {
     "data": {
      "text/plain": [
       "108                           всего хорошего до свидания\n",
       "163                                          до свидания\n",
       "335    во вторник все ну с вами да тогда до вторника ...\n",
       "479                       ну до свидания хорошего вечера\n",
       "Name: text, dtype: object"
      ]
     },
     "execution_count": 16,
     "metadata": {},
     "output_type": "execute_result"
    }
   ],
   "source": [
    "e"
   ]
  },
  {
   "cell_type": "code",
   "execution_count": 17,
   "id": "85afe934",
   "metadata": {},
   "outputs": [
    {
     "name": "stdout",
     "output_type": "stream",
     "text": [
      "The manager is not greeted in 3 dialogue\n"
     ]
    }
   ],
   "source": [
    "if len(a)!=len(e):\n",
    "    if len(a)>len(e):\n",
    "        for i in range(len(e)):\n",
    "            if not(a.index[i]<b.index[i] and b.index[i]<e.index[i]):\n",
    "                print(\"The manager is not greeted in {} dialogue\".format(i))\n",
    "        for i in range(len(e), len(a)):\n",
    "            print(\"The manager is not greeted in {} dialogue\".format(i))\n",
    "    else:\n",
    "        for i in range(len(a)):\n",
    "            if not(a.index[i]<b.index[i] and b.index[i]<e.index[i]):\n",
    "                print(\"The manager is not greeted in {} dialogue\".format(i))\n",
    "        for i in range(len(a), len(e)):\n",
    "            print(\"The manager is not greeted in {} dialogue\".format(i)) \n",
    "         "
   ]
  },
  {
   "cell_type": "code",
   "execution_count": null,
   "id": "5613695c",
   "metadata": {},
   "outputs": [],
   "source": []
  }
 ],
 "metadata": {
  "kernelspec": {
   "display_name": "Python 3 (ipykernel)",
   "language": "python",
   "name": "python3"
  },
  "language_info": {
   "codemirror_mode": {
    "name": "ipython",
    "version": 3
   },
   "file_extension": ".py",
   "mimetype": "text/x-python",
   "name": "python",
   "nbconvert_exporter": "python",
   "pygments_lexer": "ipython3",
   "version": "3.9.12"
  }
 },
 "nbformat": 4,
 "nbformat_minor": 5
}
